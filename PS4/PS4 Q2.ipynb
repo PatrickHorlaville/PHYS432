{
 "cells": [
  {
   "cell_type": "code",
   "execution_count": 1,
   "id": "30206375",
   "metadata": {},
   "outputs": [
    {
     "data": {
      "text/plain": [
       "'\\nPS4 Q2\\n@author: Patrick Horlaville\\nMarch 24th 2022\\n'"
      ]
     },
     "execution_count": 1,
     "metadata": {},
     "output_type": "execute_result"
    }
   ],
   "source": [
    "\"\"\"\n",
    "PS4 Q2\n",
    "@author: Patrick Horlaville\n",
    "March 24th 2022\n",
    "\"\"\""
   ]
  },
  {
   "cell_type": "code",
   "execution_count": 2,
   "id": "837a5a7b",
   "metadata": {},
   "outputs": [],
   "source": [
    "import numpy as np\n",
    "import matplotlib.pyplot as plt"
   ]
  },
  {
   "cell_type": "markdown",
   "id": "58d4b892",
   "metadata": {},
   "source": [
    "We make use of Prof Eve Lee's code snippets as well as content from Lecture 15.2 Shock Jump Conditions to establish our initial conditions and our functions to solve for the shock\n"
   ]
  },
  {
   "cell_type": "code",
   "execution_count": 3,
   "id": "03d565e9",
   "metadata": {},
   "outputs": [],
   "source": [
    "Ngrid = 100\n",
    "Nsteps = 2500\n",
    "dt = 0.01\n",
    "dx = 2.0\n",
    "gamma = 5/3 "
   ]
  },
  {
   "cell_type": "code",
   "execution_count": 4,
   "id": "2a134d9a",
   "metadata": {},
   "outputs": [],
   "source": [
    "x = np.arange(Ngrid)*dx \n",
    "f1 = np.ones(Ngrid) # this will be rho\n",
    "f2 = np.zeros(Ngrid) # this will be rho*u\n",
    "u = np.zeros(Ngrid + 1) # advective velocity\n",
    "E = np.ones(Ngrid) # this will be rho*energy\n",
    "pressure = (gamma - 1)/gamma * (E - (f2**2/f1)/2) # by algebra, we can find an expression for pressure\n",
    "cs2 = (pressure*gamma)/f1 # this is c_s^2 since the shock is adiabatic\n",
    "u_i = f2/f1 # velocity, given how we constructed f1 and f2\n",
    "mach_initial = u_i/np.sqrt(cs2) # Mach number"
   ]
  },
  {
   "cell_type": "code",
   "execution_count": 5,
   "id": "b837c701",
   "metadata": {},
   "outputs": [],
   "source": [
    "# This is Prof Lee's advection function\n",
    "def advection(f, u, dt, dx):\n",
    "    J = np.zeros(len(f)+1) # keeping the first and the last term zero\n",
    "    J[1:-1] = np.where(u[1:-1] > 0, f[:-1] * u[1:-1], f[1:] * u[1:-1])\n",
    "    f = f - (dt / dx) * (J[1:] - J[:-1]) #update\n",
    "    return f   "
   ]
  },
  {
   "cell_type": "code",
   "execution_count": 6,
   "id": "d84b7258",
   "metadata": {},
   "outputs": [],
   "source": [
    "# Need to add pressure gradient\n",
    "def grad(f, p):\n",
    "    f[1:-1] = f[1:-1] -  0.5*(dt/dx)*(p[2:] - p[:-2]) "
   ]
  },
  {
   "cell_type": "code",
   "execution_count": 7,
   "id": "1f63433a",
   "metadata": {},
   "outputs": [],
   "source": [
    "# Will need to correct source terms at boundary    \n",
    "def bc(f2, pressure):\n",
    "    f2[0] = f2[0] - 0.5*(dt/dx)*(pressure[1] - pressure[0]) \n",
    "    f2[-1] = f2[-1] - 0.5*(dt/dx)*(pressure[-1] - pressure[-2])\n",
    "    \n",
    "def bc2(E, p):\n",
    "    E[0] = E[0] -  0.5*(dt/dx)*(p[1] - p[0]) \n",
    "    E[-1] = E[-1] -  0.5*(dt/dx)*(p[-1] - p[-2])"
   ]
  },
  {
   "cell_type": "code",
   "execution_count": 8,
   "id": "177331d8",
   "metadata": {},
   "outputs": [],
   "source": [
    "# Will allow to re-compute advection velocity     \n",
    "def advection_vel(u, f, g):\n",
    "    u[1:-1] = 0.5 * ((g[:-1] / f[:-1]) + (g[1:] / f[1:]))"
   ]
  },
  {
   "cell_type": "code",
   "execution_count": 9,
   "id": "a9cead92",
   "metadata": {},
   "outputs": [],
   "source": [
    "## Now that we have defined all of our methods let's start looping through\n",
    "# Apply initial Gaussian perturbation to energy \n",
    "Amp, sigma = 10000, Ngrid/10\n",
    "E = E + Amp * np.exp(-(x - x.max()/2) ** 2 / sigma ** 2)"
   ]
  },
  {
   "cell_type": "code",
   "execution_count": 11,
   "id": "1353e040",
   "metadata": {},
   "outputs": [
    {
     "name": "stdout",
     "output_type": "stream",
     "text": [
      "Using matplotlib backend: TkAgg\n"
     ]
    },
    {
     "ename": "TclError",
     "evalue": "invalid command name \"pyimage20\"",
     "output_type": "error",
     "traceback": [
      "\u001b[0;31m---------------------------------------------------------------------------\u001b[0m",
      "\u001b[0;31mTclError\u001b[0m                                  Traceback (most recent call last)",
      "\u001b[0;32m<ipython-input-11-4a30f558c371>\u001b[0m in \u001b[0;36m<module>\u001b[0;34m\u001b[0m\n\u001b[1;32m     57\u001b[0m     \u001b[0mx1\u001b[0m\u001b[0;34m.\u001b[0m\u001b[0mset_ydata\u001b[0m\u001b[0;34m(\u001b[0m\u001b[0mf1\u001b[0m\u001b[0;34m)\u001b[0m\u001b[0;34m\u001b[0m\u001b[0;34m\u001b[0m\u001b[0m\n\u001b[1;32m     58\u001b[0m     \u001b[0mx2\u001b[0m\u001b[0;34m.\u001b[0m\u001b[0mset_ydata\u001b[0m\u001b[0;34m(\u001b[0m\u001b[0mmach\u001b[0m\u001b[0;34m)\u001b[0m\u001b[0;34m\u001b[0m\u001b[0;34m\u001b[0m\u001b[0m\n\u001b[0;32m---> 59\u001b[0;31m     \u001b[0mfig\u001b[0m\u001b[0;34m.\u001b[0m\u001b[0mcanvas\u001b[0m\u001b[0;34m.\u001b[0m\u001b[0mdraw\u001b[0m\u001b[0;34m(\u001b[0m\u001b[0;34m)\u001b[0m\u001b[0;34m\u001b[0m\u001b[0;34m\u001b[0m\u001b[0m\n\u001b[0m\u001b[1;32m     60\u001b[0m     \u001b[0mplt\u001b[0m\u001b[0;34m.\u001b[0m\u001b[0mpause\u001b[0m\u001b[0;34m(\u001b[0m\u001b[0;36m0.001\u001b[0m\u001b[0;34m)\u001b[0m\u001b[0;34m\u001b[0m\u001b[0;34m\u001b[0m\u001b[0m\n",
      "\u001b[0;32m/Applications/anaconda3/lib/python3.8/site-packages/matplotlib/backends/backend_tkagg.py\u001b[0m in \u001b[0;36mdraw\u001b[0;34m(self)\u001b[0m\n\u001b[1;32m      8\u001b[0m     \u001b[0;32mdef\u001b[0m \u001b[0mdraw\u001b[0m\u001b[0;34m(\u001b[0m\u001b[0mself\u001b[0m\u001b[0;34m)\u001b[0m\u001b[0;34m:\u001b[0m\u001b[0;34m\u001b[0m\u001b[0;34m\u001b[0m\u001b[0m\n\u001b[1;32m      9\u001b[0m         \u001b[0msuper\u001b[0m\u001b[0;34m(\u001b[0m\u001b[0mFigureCanvasTkAgg\u001b[0m\u001b[0;34m,\u001b[0m \u001b[0mself\u001b[0m\u001b[0;34m)\u001b[0m\u001b[0;34m.\u001b[0m\u001b[0mdraw\u001b[0m\u001b[0;34m(\u001b[0m\u001b[0;34m)\u001b[0m\u001b[0;34m\u001b[0m\u001b[0;34m\u001b[0m\u001b[0m\n\u001b[0;32m---> 10\u001b[0;31m         \u001b[0m_backend_tk\u001b[0m\u001b[0;34m.\u001b[0m\u001b[0mblit\u001b[0m\u001b[0;34m(\u001b[0m\u001b[0mself\u001b[0m\u001b[0;34m.\u001b[0m\u001b[0m_tkphoto\u001b[0m\u001b[0;34m,\u001b[0m \u001b[0mself\u001b[0m\u001b[0;34m.\u001b[0m\u001b[0mrenderer\u001b[0m\u001b[0;34m.\u001b[0m\u001b[0m_renderer\u001b[0m\u001b[0;34m,\u001b[0m \u001b[0;34m(\u001b[0m\u001b[0;36m0\u001b[0m\u001b[0;34m,\u001b[0m \u001b[0;36m1\u001b[0m\u001b[0;34m,\u001b[0m \u001b[0;36m2\u001b[0m\u001b[0;34m,\u001b[0m \u001b[0;36m3\u001b[0m\u001b[0;34m)\u001b[0m\u001b[0;34m)\u001b[0m\u001b[0;34m\u001b[0m\u001b[0;34m\u001b[0m\u001b[0m\n\u001b[0m\u001b[1;32m     11\u001b[0m         \u001b[0mself\u001b[0m\u001b[0;34m.\u001b[0m\u001b[0m_master\u001b[0m\u001b[0;34m.\u001b[0m\u001b[0mupdate_idletasks\u001b[0m\u001b[0;34m(\u001b[0m\u001b[0;34m)\u001b[0m\u001b[0;34m\u001b[0m\u001b[0;34m\u001b[0m\u001b[0m\n\u001b[1;32m     12\u001b[0m \u001b[0;34m\u001b[0m\u001b[0m\n",
      "\u001b[0;32m/Applications/anaconda3/lib/python3.8/site-packages/matplotlib/backends/_backend_tk.py\u001b[0m in \u001b[0;36mblit\u001b[0;34m(photoimage, aggimage, offsets, bbox)\u001b[0m\n\u001b[1;32m     73\u001b[0m         \u001b[0mbboxptr\u001b[0m \u001b[0;34m=\u001b[0m \u001b[0;34m(\u001b[0m\u001b[0mx1\u001b[0m\u001b[0;34m,\u001b[0m \u001b[0mx2\u001b[0m\u001b[0;34m,\u001b[0m \u001b[0my1\u001b[0m\u001b[0;34m,\u001b[0m \u001b[0my2\u001b[0m\u001b[0;34m)\u001b[0m\u001b[0;34m\u001b[0m\u001b[0;34m\u001b[0m\u001b[0m\n\u001b[1;32m     74\u001b[0m     \u001b[0;32melse\u001b[0m\u001b[0;34m:\u001b[0m\u001b[0;34m\u001b[0m\u001b[0;34m\u001b[0m\u001b[0m\n\u001b[0;32m---> 75\u001b[0;31m         \u001b[0mphotoimage\u001b[0m\u001b[0;34m.\u001b[0m\u001b[0mblank\u001b[0m\u001b[0;34m(\u001b[0m\u001b[0;34m)\u001b[0m\u001b[0;34m\u001b[0m\u001b[0;34m\u001b[0m\u001b[0m\n\u001b[0m\u001b[1;32m     76\u001b[0m         \u001b[0mbboxptr\u001b[0m \u001b[0;34m=\u001b[0m \u001b[0;34m(\u001b[0m\u001b[0;36m0\u001b[0m\u001b[0;34m,\u001b[0m \u001b[0mwidth\u001b[0m\u001b[0;34m,\u001b[0m \u001b[0;36m0\u001b[0m\u001b[0;34m,\u001b[0m \u001b[0mheight\u001b[0m\u001b[0;34m)\u001b[0m\u001b[0;34m\u001b[0m\u001b[0;34m\u001b[0m\u001b[0m\n\u001b[1;32m     77\u001b[0m     _tkagg.blit(\n",
      "\u001b[0;32m/Applications/anaconda3/lib/python3.8/tkinter/__init__.py\u001b[0m in \u001b[0;36mblank\u001b[0;34m(self)\u001b[0m\n\u001b[1;32m   4066\u001b[0m     \u001b[0;32mdef\u001b[0m \u001b[0mblank\u001b[0m\u001b[0;34m(\u001b[0m\u001b[0mself\u001b[0m\u001b[0;34m)\u001b[0m\u001b[0;34m:\u001b[0m\u001b[0;34m\u001b[0m\u001b[0;34m\u001b[0m\u001b[0m\n\u001b[1;32m   4067\u001b[0m         \u001b[0;34m\"\"\"Display a transparent image.\"\"\"\u001b[0m\u001b[0;34m\u001b[0m\u001b[0;34m\u001b[0m\u001b[0m\n\u001b[0;32m-> 4068\u001b[0;31m         \u001b[0mself\u001b[0m\u001b[0;34m.\u001b[0m\u001b[0mtk\u001b[0m\u001b[0;34m.\u001b[0m\u001b[0mcall\u001b[0m\u001b[0;34m(\u001b[0m\u001b[0mself\u001b[0m\u001b[0;34m.\u001b[0m\u001b[0mname\u001b[0m\u001b[0;34m,\u001b[0m \u001b[0;34m'blank'\u001b[0m\u001b[0;34m)\u001b[0m\u001b[0;34m\u001b[0m\u001b[0;34m\u001b[0m\u001b[0m\n\u001b[0m\u001b[1;32m   4069\u001b[0m \u001b[0;34m\u001b[0m\u001b[0m\n\u001b[1;32m   4070\u001b[0m     \u001b[0;32mdef\u001b[0m \u001b[0mcget\u001b[0m\u001b[0;34m(\u001b[0m\u001b[0mself\u001b[0m\u001b[0;34m,\u001b[0m \u001b[0moption\u001b[0m\u001b[0;34m)\u001b[0m\u001b[0;34m:\u001b[0m\u001b[0;34m\u001b[0m\u001b[0;34m\u001b[0m\u001b[0m\n",
      "\u001b[0;31mTclError\u001b[0m: invalid command name \"pyimage20\""
     ]
    }
   ],
   "source": [
    "%matplotlib\n",
    "# plotting\n",
    "plt.ion()\n",
    "fig, ax = plt.subplots(2,1)\n",
    "\n",
    "# Density plot\n",
    "x1, = ax[0].plot(x, f1, color='y')\n",
    "ax[0].set_xlim([0, dx*Ngrid])\n",
    "ax[0].set_ylim([0, 5])\n",
    "ax[0].set_xlabel(r'$x$')\n",
    "ax[0].set_ylabel(r'$\\rho$')\n",
    "\n",
    "# Mach number plot\n",
    "x2, = ax[1].plot(x, mach_initial,color='b')\n",
    "ax[1].set_xlim([0, dx*Ngrid])\n",
    "ax[1].set_ylim([-4, 4])\n",
    "ax[1].set_xlabel(r'$x$')\n",
    "ax[1].set_ylabel(r'$\\mathcal{M}$')\n",
    "\n",
    "fig.canvas.draw()\n",
    "\n",
    "for ct in range(Nsteps):\n",
    "    \n",
    "    ## advection velocity at the cell interface\n",
    "    u[1:-1] = (1/2)*((f2[:-1] / f1[:-1])+(f2[1:] / f1[1:])) \n",
    "    #update density and momentum\n",
    "    f1 = advection(f1, u, dt, dx)\n",
    "    f2 = advection(f2, u, dt, dx)\n",
    "\n",
    "    # We need to update the relevant pressure and speed sound squared terms as well\n",
    "    pressure = (gamma - 1)/gamma * (E - (1/2)*(f2**2)/f1)\n",
    "    cs2 = gamma*pressure/f1\n",
    "    # Now compute the pressure gradient and impose boundary conditions\n",
    "    grad(f2, pressure)\n",
    "    bc(f2, pressure)\n",
    "\n",
    "    #Let's try to now use our method to get the advection velocity and use it to advect the energy\n",
    "    advection_vel(u, f1, f2) \n",
    "    E = advection(E, u, dt, dx)\n",
    "\n",
    "    #Now we need to recalculate the pressure and velocity\n",
    "    pressure = (gamma - 1)/gamma * (E - 0.5*f2**2/f1)\n",
    "    velocity = f2/f1\n",
    "    ## allows us to compute the energy gradient and imposing the correct boundary conditions\n",
    "    p_e = pressure*velocity\n",
    "    grad(E, p_e)\n",
    "    bc2(E, p_e)\n",
    "\n",
    "    # again updating the pressure and sound speed values so that we can obtain the mach number to plot. \n",
    "    pressure = (gamma - 1)/gamma * (E - 0.5*f2**2/f1)\n",
    "    cs2 = gamma * pressure / f1\n",
    "    velocity= f2/f1\n",
    "    mach = velocity/np.sqrt(cs2)\n",
    "    \n",
    "    \n",
    "    #plot the data \n",
    "    x1.set_ydata(f1)\n",
    "    x2.set_ydata(mach)\n",
    "    fig.canvas.draw()\n",
    "    plt.pause(0.001)"
   ]
  },
  {
   "cell_type": "code",
   "execution_count": null,
   "id": "4ebc5703",
   "metadata": {},
   "outputs": [],
   "source": []
  },
  {
   "cell_type": "markdown",
   "id": "810c7a7d",
   "metadata": {},
   "source": []
  },
  {
   "cell_type": "code",
   "execution_count": null,
   "id": "cbfa0ddc",
   "metadata": {},
   "outputs": [],
   "source": []
  },
  {
   "cell_type": "code",
   "execution_count": null,
   "id": "0b941ce8",
   "metadata": {},
   "outputs": [],
   "source": []
  }
 ],
 "metadata": {
  "kernelspec": {
   "display_name": "Python 3",
   "language": "python",
   "name": "python3"
  },
  "language_info": {
   "codemirror_mode": {
    "name": "ipython",
    "version": 3
   },
   "file_extension": ".py",
   "mimetype": "text/x-python",
   "name": "python",
   "nbconvert_exporter": "python",
   "pygments_lexer": "ipython3",
   "version": "3.8.8"
  }
 },
 "nbformat": 4,
 "nbformat_minor": 5
}
